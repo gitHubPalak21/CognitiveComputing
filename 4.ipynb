{
 "cells": [
  {
   "cell_type": "code",
   "execution_count": 1,
   "id": "c00f1a95-79cc-484a-a16a-41e69cccdac2",
   "metadata": {},
   "outputs": [
    {
     "name": "stdout",
     "output_type": "stream",
     "text": [
      "7  *  1  =  7\n",
      "7  *  2  =  14\n",
      "7  *  3  =  21\n",
      "7  *  4  =  28\n",
      "7  *  5  =  35\n",
      "7  *  6  =  42\n",
      "7  *  7  =  49\n",
      "7  *  8  =  56\n",
      "7  *  9  =  63\n",
      "7  *  10  =  70\n"
     ]
    }
   ],
   "source": [
    "for i in range(1,11):\n",
    "\tprint (7,\" * \", i , \" = \", i * 7)\n",
    "    "
   ]
  },
  {
   "cell_type": "code",
   "execution_count": 2,
   "id": "cfe4efe4-5a4c-4f4a-9fb7-480fb0477018",
   "metadata": {},
   "outputs": [
    {
     "name": "stdout",
     "output_type": "stream",
     "text": [
      "9  *  1  =  9\n",
      "9  *  2  =  18\n",
      "9  *  3  =  27\n",
      "9  *  4  =  36\n",
      "9  *  5  =  45\n",
      "9  *  6  =  54\n",
      "9  *  7  =  63\n",
      "9  *  8  =  72\n",
      "9  *  9  =  81\n",
      "9  *  10  =  90\n"
     ]
    }
   ],
   "source": [
    "for i in range(1,11):\n",
    "\tprint (9,\" * \", i , \" = \", i * 9)"
   ]
  },
  {
   "cell_type": "code",
   "execution_count": 4,
   "id": "be194b7d-f434-4e32-94b3-ba7f7b6cc308",
   "metadata": {},
   "outputs": [
    {
     "name": "stdout",
     "output_type": "stream",
     "text": [
      "enter the table you want to be printed\n"
     ]
    },
    {
     "name": "stdin",
     "output_type": "stream",
     "text": [
      "value of n 6\n"
     ]
    },
    {
     "name": "stdout",
     "output_type": "stream",
     "text": [
      "6  *  1  =  6\n",
      "6  *  2  =  12\n",
      "6  *  3  =  18\n",
      "6  *  4  =  24\n",
      "6  *  5  =  30\n",
      "6  *  6  =  36\n",
      "6  *  7  =  42\n",
      "6  *  8  =  48\n",
      "6  *  9  =  54\n",
      "6  *  10  =  60\n"
     ]
    }
   ],
   "source": [
    "print(\"enter the table you want to be printed\")\n",
    "n=int(input(\"value of n\"))\n",
    "for i in range(1,11):\n",
    "\tprint (n,\" * \", i , \" = \", i * n)"
   ]
  },
  {
   "cell_type": "code",
   "execution_count": 6,
   "id": "05802e81-2179-4785-a022-a282b6e21f30",
   "metadata": {},
   "outputs": [
    {
     "name": "stdout",
     "output_type": "stream",
     "text": [
      "enter the table you want to be printed\n"
     ]
    },
    {
     "name": "stdin",
     "output_type": "stream",
     "text": [
      "value of n 4\n"
     ]
    },
    {
     "name": "stdout",
     "output_type": "stream",
     "text": [
      "1\n",
      "2\n",
      "3\n",
      "4\n"
     ]
    }
   ],
   "source": [
    "print(\"enter the table you want to be printed\")\n",
    "n=int(input(\"value of n\"))\n",
    "for i in range(0,n):\n",
    "\tprint ( i + 1)"
   ]
  },
  {
   "cell_type": "code",
   "execution_count": null,
   "id": "dcf95d1c-f5b5-4f21-b903-b3be670e6df8",
   "metadata": {},
   "outputs": [],
   "source": []
  }
 ],
 "metadata": {
  "kernelspec": {
   "display_name": "Python 3 (ipykernel)",
   "language": "python",
   "name": "python3"
  },
  "language_info": {
   "codemirror_mode": {
    "name": "ipython",
    "version": 3
   },
   "file_extension": ".py",
   "mimetype": "text/x-python",
   "name": "python",
   "nbconvert_exporter": "python",
   "pygments_lexer": "ipython3",
   "version": "3.13.1"
  }
 },
 "nbformat": 4,
 "nbformat_minor": 5
}
