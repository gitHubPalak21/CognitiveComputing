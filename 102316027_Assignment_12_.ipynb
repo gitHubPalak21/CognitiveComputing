{
 "cells": [
  {
   "cell_type": "markdown",
   "id": "9aa15841-f468-476c-a000-b73f0c89aa82",
   "metadata": {},
   "source": [
    "# Deploy a Cognitive Systems or Chatbot for healthcare applications."
   ]
  },
  {
   "cell_type": "markdown",
   "id": "5a6bcb69-287a-4dea-a27b-7c252c80e781",
   "metadata": {},
   "source": [
    "## conversation data"
   ]
  },
  {
   "cell_type": "code",
   "execution_count": 3,
   "id": "a0a5e241-adbc-465e-ba54-d07e010fa8f9",
   "metadata": {},
   "outputs": [],
   "source": [
    "conversation = [\n",
    "    'Hi',\n",
    "    'Hello! I am HealthBot. How can I assist you today?',\n",
    "    'Hello',\n",
    "    'Hi! Do you have a health-related question?',\n",
    "    'I have a headache',\n",
    "    'You should rest, stay hydrated, and take a mild pain reliever if needed.',\n",
    "    'What should I do if I have a fever?',\n",
    "    'Drink plenty of fluids and rest. If the fever persists, please consult a doctor.',\n",
    "    'I feel dizzy',\n",
    "    'Sit down, breathe deeply, and drink water. If it continues, seek medical help.',\n",
    "    'What should I eat for a cold?',\n",
    "    'Warm fluids, soups, citrus fruits, and light meals help during a cold.',\n",
    "    'How to stay healthy?',\n",
    "    'Eat balanced meals, exercise regularly, stay hydrated, and get enough sleep.',\n",
    "    'What should I do in case of a cut?',\n",
    "    'Clean the wound with water, apply antiseptic, and cover it with a clean bandage.',\n",
    "    'How much water should I drink daily?',\n",
    "    'Generally, 2 to 3 liters per day is recommended, but it varies based on your activity.',\n",
    "    'Thank you',\n",
    "    'You’re welcome! Take care.',\n",
    "    'Bye',\n",
    "    'Goodbye! Stay healthy.'\n",
    "]"
   ]
  },
  {
   "cell_type": "code",
   "execution_count": 4,
   "id": "e09633e1-e82a-4f6a-8715-760cc453e10f",
   "metadata": {},
   "outputs": [],
   "source": [
    "from chatterbot import ChatBot\n",
    "from chatterbot.trainers import ListTrainer"
   ]
  },
  {
   "cell_type": "markdown",
   "id": "dbfedc3c-7a3f-47f4-b320-63c68e57cce1",
   "metadata": {},
   "source": [
    "### health bot"
   ]
  },
  {
   "cell_type": "code",
   "execution_count": 6,
   "id": "c4715dd0-e1da-4204-907c-63f98222d3be",
   "metadata": {},
   "outputs": [
    {
     "name": "stderr",
     "output_type": "stream",
     "text": [
      "List Trainer: 22it [00:00, 393.59it/s]\n"
     ]
    }
   ],
   "source": [
    "health_bot = ChatBot(\n",
    "    'HealthBot',\n",
    "    read_only=True,\n",
    "    logic_adapters=[\n",
    "        'chatterbot.logic.BestMatch'\n",
    "    ]\n",
    ")\n",
    "trainer = ListTrainer(health_bot)\n",
    "trainer.train(conversation)"
   ]
  },
  {
   "cell_type": "markdown",
   "id": "f74ea802-3c40-48f9-8264-a9ac07d3e125",
   "metadata": {},
   "source": [
    "## trainig "
   ]
  },
  {
   "cell_type": "code",
   "execution_count": 7,
   "id": "d5170a11-b4e5-43f3-a610-75259a53a162",
   "metadata": {},
   "outputs": [
    {
     "name": "stdout",
     "output_type": "stream",
     "text": [
      "Talk to HealthBot (type 'exit' to quit):\n"
     ]
    },
    {
     "name": "stdin",
     "output_type": "stream",
     "text": [
      "You:  hi\n"
     ]
    },
    {
     "name": "stdout",
     "output_type": "stream",
     "text": [
      "HealthBot: Hello! I am HealthBot. How can I assist you today?\n"
     ]
    },
    {
     "name": "stdin",
     "output_type": "stream",
     "text": [
      "You:  hello\n"
     ]
    },
    {
     "name": "stdout",
     "output_type": "stream",
     "text": [
      "HealthBot: Hi! Do you have a health-related question?\n"
     ]
    },
    {
     "name": "stdin",
     "output_type": "stream",
     "text": [
      "You:  i have headache\n"
     ]
    },
    {
     "name": "stdout",
     "output_type": "stream",
     "text": [
      "HealthBot: You should rest, stay hydrated, and take a mild pain reliever if needed.\n"
     ]
    },
    {
     "name": "stdin",
     "output_type": "stream",
     "text": [
      "You:  fever\n"
     ]
    },
    {
     "name": "stdout",
     "output_type": "stream",
     "text": [
      "HealthBot: Drink plenty of fluids and rest. If the fever persists, please consult a doctor.\n"
     ]
    },
    {
     "name": "stdin",
     "output_type": "stream",
     "text": [
      "You:  dizzy\n"
     ]
    },
    {
     "name": "stdout",
     "output_type": "stream",
     "text": [
      "HealthBot: Sit down, breathe deeply, and drink water. If it continues, seek medical help.\n"
     ]
    },
    {
     "name": "stdin",
     "output_type": "stream",
     "text": [
      "You:  case of a cut\n"
     ]
    },
    {
     "name": "stdout",
     "output_type": "stream",
     "text": [
      "HealthBot: Clean the wound with water, apply antiseptic, and cover it with a clean bandage.\n"
     ]
    },
    {
     "name": "stdin",
     "output_type": "stream",
     "text": [
      "You:  how much water to drink daily\n"
     ]
    },
    {
     "name": "stdout",
     "output_type": "stream",
     "text": [
      "HealthBot: Generally, 2 to 3 liters per day is recommended, but it varies based on your activity.\n"
     ]
    },
    {
     "name": "stdin",
     "output_type": "stream",
     "text": [
      "You:  stay healthy\n"
     ]
    },
    {
     "name": "stdout",
     "output_type": "stream",
     "text": [
      "HealthBot: Eat balanced meals, exercise regularly, stay hydrated, and get enough sleep.\n"
     ]
    },
    {
     "name": "stdin",
     "output_type": "stream",
     "text": [
      "You:  thank you\n"
     ]
    },
    {
     "name": "stdout",
     "output_type": "stream",
     "text": [
      "HealthBot: You’re welcome! Take care.\n"
     ]
    },
    {
     "name": "stdin",
     "output_type": "stream",
     "text": [
      "You:  bye\n"
     ]
    },
    {
     "name": "stdout",
     "output_type": "stream",
     "text": [
      "HealthBot: Goodbye! Stay healthy.\n"
     ]
    }
   ],
   "source": [
    "print(\"Talk to HealthBot (type 'exit' to quit):\")\n",
    "while True:\n",
    "    query = input(\"You: \")\n",
    "    if query.lower() == 'bye':\n",
    "        print(\"HealthBot: Goodbye! Stay healthy.\")\n",
    "        break\n",
    "    response = health_bot.get_response(query)\n",
    "    print(f\"HealthBot: {response}\")"
   ]
  },
  {
   "cell_type": "code",
   "execution_count": null,
   "id": "af15eb5c-dd84-45b7-86c0-6285dad8ff4a",
   "metadata": {},
   "outputs": [],
   "source": []
  }
 ],
 "metadata": {
  "kernelspec": {
   "display_name": "Python (CC)",
   "language": "python",
   "name": "cc"
  },
  "language_info": {
   "codemirror_mode": {
    "name": "ipython",
    "version": 3
   },
   "file_extension": ".py",
   "mimetype": "text/x-python",
   "name": "python",
   "nbconvert_exporter": "python",
   "pygments_lexer": "ipython3",
   "version": "3.11.11"
  }
 },
 "nbformat": 4,
 "nbformat_minor": 5
}
