{
 "cells": [
  {
   "cell_type": "code",
   "execution_count": 1,
   "id": "5381917e-c968-451b-9bc5-4490ef121b47",
   "metadata": {},
   "outputs": [
    {
     "name": "stdin",
     "output_type": "stream",
     "text": [
      "Enter the first number:  9\n",
      "Enter the second number:  8\n",
      "Enter the third number:  9\n"
     ]
    },
    {
     "name": "stdout",
     "output_type": "stream",
     "text": [
      "The maximum number is: 9.0\n"
     ]
    }
   ],
   "source": [
    "#5.1\n",
    "num1 = float(input(\"Enter the first number: \"))\n",
    "num2 = float(input(\"Enter the second number: \"))\n",
    "num3 = float(input(\"Enter the third number: \"))\n",
    "\n",
    "# Use max() function to find the maximum number\n",
    "max_num = max(num1, num2, num3)\n",
    "\n",
    "print(f\"The maximum number is: {max_num}\")\n",
    "\n"
   ]
  },
  {
   "cell_type": "code",
   "execution_count": 2,
   "id": "e7970363-7121-46eb-9ac1-4919743e4a3a",
   "metadata": {},
   "outputs": [
    {
     "name": "stdin",
     "output_type": "stream",
     "text": [
      "Enter the value of n:  9\n"
     ]
    },
    {
     "name": "stdout",
     "output_type": "stream",
     "text": [
      "The sum of numbers divisible by both 7 and 9 from 1 to 9 is: 0\n"
     ]
    }
   ],
   "source": [
    "#5.2\n",
    "n = int(input(\"Enter the value of n: \"))\n",
    "sum_divisible = 0\n",
    "for i in range(1, n + 1):\n",
    "    if i % 7 == 0 and i % 9 == 0:  # Check if the number is divisible by both 7 and 9\n",
    "        sum_divisible += i\n",
    "\n",
    "print(f\"The sum of numbers divisible by both 7 and 9 from 1 to {n} is: {sum_divisible}\")\n"
   ]
  },
  {
   "cell_type": "code",
   "execution_count": 3,
   "id": "a63c85a0-b2de-43cb-aabf-fc48487afff2",
   "metadata": {},
   "outputs": [
    {
     "name": "stdin",
     "output_type": "stream",
     "text": [
      "Enter the value of n:  89\n"
     ]
    },
    {
     "name": "stdout",
     "output_type": "stream",
     "text": [
      "The sum of prime numbers from 1 to 89 is: 963\n"
     ]
    }
   ],
   "source": [
    "# 5.3\n",
    "def is_prime(num):\n",
    "    if num < 2:\n",
    "        return False\n",
    "    for i in range(2, int(num**0.5) + 1):\n",
    "        if num % i == 0:\n",
    "            return False\n",
    "    return True\n",
    "\n",
    "n = int(input(\"Enter the value of n: \"))\n",
    "\n",
    "\n",
    "sum_primes = 0\n",
    "for i in range(1, n + 1):\n",
    "    if is_prime(i):\n",
    "        sum_primes += i\n",
    "\n",
    "print(f\"The sum of prime numbers from 1 to {n} is: {sum_primes}\")\n"
   ]
  },
  {
   "cell_type": "code",
   "execution_count": null,
   "id": "c042efff-481b-434a-9c7a-b7a69fe6c5c9",
   "metadata": {},
   "outputs": [],
   "source": []
  }
 ],
 "metadata": {
  "kernelspec": {
   "display_name": "Python 3 (ipykernel)",
   "language": "python",
   "name": "python3"
  },
  "language_info": {
   "codemirror_mode": {
    "name": "ipython",
    "version": 3
   },
   "file_extension": ".py",
   "mimetype": "text/x-python",
   "name": "python",
   "nbconvert_exporter": "python",
   "pygments_lexer": "ipython3",
   "version": "3.13.1"
  }
 },
 "nbformat": 4,
 "nbformat_minor": 5
}
