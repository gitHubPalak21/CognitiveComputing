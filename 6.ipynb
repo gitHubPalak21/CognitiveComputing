{
 "cells": [
  {
   "cell_type": "code",
   "execution_count": 1,
   "id": "5381917e-c968-451b-9bc5-4490ef121b47",
   "metadata": {},
   "outputs": [
    {
     "name": "stdin",
     "output_type": "stream",
     "text": [
      "Enter the value of n:  5\n"
     ]
    },
    {
     "name": "stdout",
     "output_type": "stream",
     "text": [
      "The sum of all odd numbers from 1 to 5 is: 9\n"
     ]
    }
   ],
   "source": [
    "#6.1\n",
    "def add_odd_numbers(n):\n",
    "    total_sum = 0\n",
    "    for i in range(1, n + 1, 2):  # Step by 2 to get odd numbers\n",
    "        total_sum += i\n",
    "    return total_sum\n",
    "\n",
    "n = int(input(\"Enter the value of n: \"))\n",
    "\n",
    "result = add_odd_numbers(n)\n",
    "print(f\"The sum of all odd numbers from 1 to {n} is: {result}\")\n"
   ]
  },
  {
   "cell_type": "code",
   "execution_count": 2,
   "id": "d849cd1a-0687-421a-966f-369c57b3fa69",
   "metadata": {},
   "outputs": [
    {
     "name": "stdin",
     "output_type": "stream",
     "text": [
      "Enter the value of n:  45\n"
     ]
    },
    {
     "name": "stdout",
     "output_type": "stream",
     "text": [
      "The sum of all prime numbers from 1 to 45 is: 281\n"
     ]
    }
   ],
   "source": [
    "\n",
    "def is_prime(num):\n",
    "    if num < 2:\n",
    "        return False\n",
    "    for i in range(2, int(num**0.5) + 1):\n",
    "        if num % i == 0:\n",
    "            return False\n",
    "    return True\n",
    "\n",
    "def add_prime_numbers(n):\n",
    "    total_sum = 0\n",
    "    for i in range(1, n + 1):\n",
    "        if is_prime(i):\n",
    "            total_sum += i\n",
    "    return total_sum\n",
    "\n",
    "n = int(input(\"Enter the value of n: \"))\n",
    "\n",
    "result = add_prime_numbers(n)\n",
    "print(f\"The sum of all prime numbers from 1 to {n} is: {result}\")\n"
   ]
  },
  {
   "cell_type": "code",
   "execution_count": null,
   "id": "e2d74459-1400-4b05-bdf5-715f68d0bb66",
   "metadata": {},
   "outputs": [],
   "source": []
  }
 ],
 "metadata": {
  "kernelspec": {
   "display_name": "Python 3 (ipykernel)",
   "language": "python",
   "name": "python3"
  },
  "language_info": {
   "codemirror_mode": {
    "name": "ipython",
    "version": 3
   },
   "file_extension": ".py",
   "mimetype": "text/x-python",
   "name": "python",
   "nbconvert_exporter": "python",
   "pygments_lexer": "ipython3",
   "version": "3.13.1"
  }
 },
 "nbformat": 4,
 "nbformat_minor": 5
}
